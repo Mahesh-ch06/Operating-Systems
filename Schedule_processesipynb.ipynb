{
  "nbformat": 4,
  "nbformat_minor": 0,
  "metadata": {
    "colab": {
      "provenance": [],
      "authorship_tag": "ABX9TyN2cEx7snvCToSb6auoJmMX",
      "include_colab_link": true
    },
    "kernelspec": {
      "name": "python3",
      "display_name": "Python 3"
    },
    "language_info": {
      "name": "python"
    }
  },
  "cells": [
    {
      "cell_type": "markdown",
      "metadata": {
        "id": "view-in-github",
        "colab_type": "text"
      },
      "source": [
        "<a href=\"https://colab.research.google.com/github/Mahesh-ch06/Operating-Systems/blob/main/Schedule_processesipynb.ipynb\" target=\"_parent\"><img src=\"https://colab.research.google.com/assets/colab-badge.svg\" alt=\"Open In Colab\"/></a>"
      ]
    },
    {
      "cell_type": "markdown",
      "source": [
        "**Name : Mahesh**\n",
        "\n",
        "**Batch : 31**\n",
        "\n",
        "**HallTicket No : 2303A52037**"
      ],
      "metadata": {
        "id": "U_QvdtX8jKQT"
      }
    },
    {
      "cell_type": "markdown",
      "source": [
        "**Question 1:**\n",
        "\n",
        "Assume that the system takes 1 unit of time to switch between processes due to context\n",
        "switching. In what way does the context switch overhead impact the total execution time\n",
        "of the processes and how would the total completion time be calculated with the\n",
        "overhead?\n",
        "\n",
        "Process P1 arrives at time 0, priority = 2, burst time = 6 units.\n",
        "\n",
        "Process P2 arrives at time 2, priority = 1, burst time = 4 units.\n",
        "\n",
        "Process P3 arrives at time 4, priority = 3, burst time = 3 units"
      ],
      "metadata": {
        "id": "NpyrrpLHimhn"
      }
    },
    {
      "cell_type": "code",
      "execution_count": 1,
      "metadata": {
        "colab": {
          "base_uri": "https://localhost:8080/"
        },
        "id": "Dsvckvrxh1DC",
        "outputId": "41aa592c-ce73-42d0-8e13-7a969eda4c3a"
      },
      "outputs": [
        {
          "output_type": "stream",
          "name": "stdout",
          "text": [
            "Enter the number of processes: 4\n",
            "Enter name for Process 1: P1\n",
            "Enter arrival time for P1: 0\n",
            "Enter priority for P1 (lower number = higher priority): 2\n",
            "Enter burst time for P1: 6\n",
            "Enter name for Process 2: P2\n",
            "Enter arrival time for P2: 1\n",
            "Enter priority for P2 (lower number = higher priority): 1\n",
            "Enter burst time for P2: 8\n",
            "Enter name for Process 3: P3\n",
            "Enter arrival time for P3: 2\n",
            "Enter priority for P3 (lower number = higher priority): 4\n",
            "Enter burst time for P3: 3\n",
            "Enter name for Process 4: P4\n",
            "Enter arrival time for P4: 3\n",
            "Enter priority for P4 (lower number = higher priority): 3\n",
            "Enter burst time for P4: 5\n",
            "+-----------+----------------+------------+--------------+--------------+-------------------+\n",
            "| Process   |   Arrival Time |   Priority |   Burst Time |   Start Time |   Completion Time |\n",
            "+===========+================+============+==============+==============+===================+\n",
            "| P1        |              0 |          2 |            6 |            0 |                15 |\n",
            "+-----------+----------------+------------+--------------+--------------+-------------------+\n",
            "| P2        |              1 |          1 |            8 |            1 |                 9 |\n",
            "+-----------+----------------+------------+--------------+--------------+-------------------+\n",
            "| P3        |              2 |          4 |            3 |           22 |                25 |\n",
            "+-----------+----------------+------------+--------------+--------------+-------------------+\n",
            "| P4        |              3 |          3 |            5 |           16 |                21 |\n",
            "+-----------+----------------+------------+--------------+--------------+-------------------+\n",
            "Total Completion Time: 25 units\n"
          ]
        }
      ],
      "source": [
        "from tabulate import tabulate\n",
        "\n",
        "class Process:\n",
        "    def __init__(self, name, arrival_time, priority, burst_time):\n",
        "        self.name = name\n",
        "        self.arrival_time = arrival_time\n",
        "        self.priority = priority\n",
        "        self.burst_time = burst_time\n",
        "        self.remaining_time = burst_time\n",
        "        self.start_time = None\n",
        "        self.completion_time = None\n",
        "\n",
        "def schedule_processes(processes):\n",
        "    time = 0\n",
        "    context_switch_time = 1\n",
        "    completed_processes = 0\n",
        "    num_processes = len(processes)\n",
        "\n",
        "    processes.sort(key=lambda p: (p.arrival_time, p.priority))\n",
        "\n",
        "    while completed_processes < num_processes:\n",
        "        available_processes = [p for p in processes if p.arrival_time <= time and p.remaining_time > 0]\n",
        "\n",
        "        if not available_processes:\n",
        "            time += 1\n",
        "            continue\n",
        "\n",
        "        current_process = min(available_processes, key=lambda p: p.priority)\n",
        "\n",
        "        if current_process.start_time is None:\n",
        "            current_process.start_time = time\n",
        "\n",
        "        current_process.remaining_time -= 1\n",
        "        time += 1\n",
        "\n",
        "        if current_process.remaining_time == 0:\n",
        "            current_process.completion_time = time\n",
        "            completed_processes += 1\n",
        "\n",
        "            if completed_processes < num_processes:\n",
        "                time += context_switch_time\n",
        "\n",
        "    table_data = []\n",
        "    for p in processes:\n",
        "        table_data.append([p.name, p.arrival_time, p.priority, p.burst_time, p.start_time, p.completion_time])\n",
        "\n",
        "    headers = [\"Process\", \"Arrival Time\", \"Priority\", \"Burst Time\", \"Start Time\", \"Completion Time\"]\n",
        "\n",
        "    print(tabulate(table_data, headers=headers, tablefmt=\"grid\"))\n",
        "\n",
        "    total_completion_time = max(p.completion_time for p in processes)\n",
        "    print(f\"Total Completion Time: {total_completion_time} units\")\n",
        "\n",
        "def get_process_input():\n",
        "    num_processes = int(input(\"Enter the number of processes: \"))\n",
        "    processes = []\n",
        "\n",
        "    for i in range(num_processes):\n",
        "        name = input(f\"Enter name for Process {i+1}: \")\n",
        "        arrival_time = int(input(f\"Enter arrival time for {name}: \"))\n",
        "        priority = int(input(f\"Enter priority for {name} (lower number = higher priority): \"))\n",
        "        burst_time = int(input(f\"Enter burst time for {name}: \"))\n",
        "\n",
        "        process = Process(name, arrival_time, priority, burst_time)\n",
        "        processes.append(process)\n",
        "\n",
        "    return processes\n",
        "\n",
        "processes = get_process_input()\n",
        "schedule_processes(processes)\n"
      ]
    }
  ]
}
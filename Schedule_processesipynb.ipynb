{
  "nbformat": 4,
  "nbformat_minor": 0,
  "metadata": {
    "colab": {
      "provenance": [],
      "authorship_tag": "ABX9TyN1v+tffJwLemkicpBowJwV",
      "include_colab_link": true
    },
    "kernelspec": {
      "name": "python3",
      "display_name": "Python 3"
    },
    "language_info": {
      "name": "python"
    }
  },
  "cells": [
    {
      "cell_type": "markdown",
      "metadata": {
        "id": "view-in-github",
        "colab_type": "text"
      },
      "source": [
        "<a href=\"https://colab.research.google.com/github/Mahesh-ch06/Operating-Systems/blob/main/Schedule_processesipynb.ipynb\" target=\"_parent\"><img src=\"https://colab.research.google.com/assets/colab-badge.svg\" alt=\"Open In Colab\"/></a>"
      ]
    },
    {
      "cell_type": "markdown",
      "source": [
        "**Name : Mahesh**\n",
        "\n",
        "**Batch : 31**\n",
        "\n",
        "**HallTicket No : 2303A52037**"
      ],
      "metadata": {
        "id": "U_QvdtX8jKQT"
      }
    },
    {
      "cell_type": "markdown",
      "source": [
        "**Question 1:**\n",
        "\n",
        "Assume that the system takes 1 unit of time to switch between processes due to context\n",
        "switching. In what way does the context switch overhead impact the total execution time\n",
        "of the processes and how would the total completion time be calculated with the\n",
        "overhead?\n",
        "\n",
        "Process P1 arrives at time 0, priority = 2, burst time = 6 units.\n",
        "\n",
        "Process P2 arrives at time 2, priority = 1, burst time = 4 units.\n",
        "\n",
        "Process P3 arrives at time 4, priority = 3, burst time = 3 units"
      ],
      "metadata": {
        "id": "NpyrrpLHimhn"
      }
    },
    {
      "cell_type": "code",
      "execution_count": null,
      "metadata": {
        "colab": {
          "base_uri": "https://localhost:8080/"
        },
        "id": "Dsvckvrxh1DC",
        "outputId": "72b15110-63a9-42b6-c329-d65b2fafa56b"
      },
      "outputs": [
        {
          "output_type": "stream",
          "name": "stdout",
          "text": [
            "+-----------+----------------+------------+--------------+--------------+-------------------+\n",
            "| Process   |   Arrival Time |   Priority |   Burst Time |   Start Time |   Completion Time |\n",
            "+===========+================+============+==============+==============+===================+\n",
            "| P1        |              0 |          2 |            6 |            0 |                11 |\n",
            "+-----------+----------------+------------+--------------+--------------+-------------------+\n",
            "| P2        |              2 |          1 |            4 |            2 |                 6 |\n",
            "+-----------+----------------+------------+--------------+--------------+-------------------+\n",
            "| P3        |              4 |          3 |            3 |           12 |                15 |\n",
            "+-----------+----------------+------------+--------------+--------------+-------------------+\n",
            "Total Completion Time: 15 units\n"
          ]
        }
      ],
      "source": [
        "from tabulate import tabulate\n",
        "\n",
        "class Process:\n",
        "    def __init__(self, name, arrival_time, priority, burst_time):\n",
        "        self.name = name\n",
        "        self.arrival_time = arrival_time\n",
        "        self.priority = priority\n",
        "        self.burst_time = burst_time\n",
        "        self.remaining_time = burst_time\n",
        "        self.start_time = None\n",
        "        self.completion_time = None\n",
        "\n",
        "def schedule_processes(processes):\n",
        "    time = 0\n",
        "    context_switch_time = 1\n",
        "    completed_processes = 0\n",
        "    num_processes = len(processes)\n",
        "\n",
        "    processes.sort(key=lambda p: (p.arrival_time, p.priority))\n",
        "\n",
        "    while completed_processes < num_processes:\n",
        "        available_processes = [p for p in processes if p.arrival_time <= time and p.remaining_time > 0]\n",
        "\n",
        "        if not available_processes:\n",
        "            time += 1\n",
        "            continue\n",
        "\n",
        "        current_process = min(available_processes, key=lambda p: p.priority)\n",
        "\n",
        "        if current_process.start_time is None:\n",
        "            current_process.start_time = time\n",
        "\n",
        "        current_process.remaining_time -= 1\n",
        "        time += 1\n",
        "\n",
        "        if current_process.remaining_time == 0:\n",
        "            current_process.completion_time = time\n",
        "            completed_processes += 1\n",
        "\n",
        "            if completed_processes < num_processes:\n",
        "                time += context_switch_time\n",
        "\n",
        "    table_data = []\n",
        "    for p in processes:\n",
        "        table_data.append([p.name, p.arrival_time, p.priority, p.burst_time, p.start_time, p.completion_time])\n",
        "\n",
        "    headers = [\"Process\", \"Arrival Time\", \"Priority\", \"Burst Time\", \"Start Time\", \"Completion Time\"]\n",
        "\n",
        "    print(tabulate(table_data, headers=headers, tablefmt=\"grid\"))\n",
        "\n",
        "    total_completion_time = max(p.completion_time for p in processes)\n",
        "    print(f\"Total Completion Time: {total_completion_time} units\")\n",
        "\n",
        "p1 = Process('P1', 0, 2, 6)\n",
        "p2 = Process('P2', 2, 1, 4)\n",
        "p3 = Process('P3', 4, 3, 3)\n",
        "\n",
        "processes = [p1, p2, p3]\n",
        "\n",
        "schedule_processes(processes)\n"
      ]
    }
  ]
}
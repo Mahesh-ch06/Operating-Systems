{
  "nbformat": 4,
  "nbformat_minor": 0,
  "metadata": {
    "colab": {
      "provenance": [],
      "authorship_tag": "ABX9TyO3HLQAvDz/AlMr8tGmMzZb",
      "include_colab_link": true
    },
    "kernelspec": {
      "name": "python3",
      "display_name": "Python 3"
    },
    "language_info": {
      "name": "python"
    }
  },
  "cells": [
    {
      "cell_type": "markdown",
      "metadata": {
        "id": "view-in-github",
        "colab_type": "text"
      },
      "source": [
        "<a href=\"https://colab.research.google.com/github/Mahesh-ch06/Operating-Systems/blob/main/Optimal_Page.ipynb\" target=\"_parent\"><img src=\"https://colab.research.google.com/assets/colab-badge.svg\" alt=\"Open In Colab\"/></a>"
      ]
    },
    {
      "cell_type": "markdown",
      "source": [
        "In an operating system with limited memory, you're given a list of future page requests:\n",
        "[3, 2, 1, 4, 5, 6, 3, 1, 2, 5] and 4 available frames. Using the Optimal Page\n",
        "Replacement algorithm, which pages should be loaded initially, and when a page fault\n",
        "occurs, which page would you replace at each step?. Calculate the total number of page\n",
        "faults"
      ],
      "metadata": {
        "id": "YIYFerQM0PyA"
      }
    },
    {
      "cell_type": "code",
      "execution_count": null,
      "metadata": {
        "colab": {
          "base_uri": "https://localhost:8080/"
        },
        "id": "Ty2_DDVtzm98",
        "outputId": "b53f6b4b-0d7b-4cae-8c95-99c9df4522ec"
      },
      "outputs": [
        {
          "output_type": "stream",
          "name": "stdout",
          "text": [
            "Enter the list items (space separated): 3 2 1 4 5 6 3 1 2 5\n",
            "Enter the size of the memory: 4\n",
            "List items are: [3, 2, 1, 4, 5, 6, 3, 1, 2, 5]\n",
            "\n",
            "Iteration 1: Processing item 3\n",
            "Page 3 caused a fault (Fault)\n",
            "Current memory state: [3]\n",
            "\n",
            "Iteration 2: Processing item 2\n",
            "Page 2 caused a fault (Fault)\n",
            "Current memory state: [3, 2]\n",
            "\n",
            "Iteration 3: Processing item 1\n",
            "Page 1 caused a fault (Fault)\n",
            "Current memory state: [3, 2, 1]\n",
            "\n",
            "Iteration 4: Processing item 4\n",
            "Page 4 caused a fault (Fault)\n",
            "Current memory state: [3, 2, 1, 4]\n",
            "\n",
            "Iteration 5: Processing item 5\n",
            "Page 5 caused a fault (Fault)\n",
            "Removing page 4 from memory\n",
            "Current memory state: [3, 2, 1, 5]\n",
            "\n",
            "Iteration 6: Processing item 6\n",
            "Page 6 caused a fault (Fault)\n",
            "Removing page 5 from memory\n",
            "Current memory state: [3, 2, 1, 6]\n",
            "\n",
            "Iteration 7: Processing item 3\n",
            "Page 3 is already in memory (Hit)\n",
            "Current memory state: [3, 2, 1, 6]\n",
            "\n",
            "Iteration 8: Processing item 1\n",
            "Page 1 is already in memory (Hit)\n",
            "Current memory state: [3, 2, 1, 6]\n",
            "\n",
            "Iteration 9: Processing item 2\n",
            "Page 2 is already in memory (Hit)\n",
            "Current memory state: [3, 2, 1, 6]\n",
            "\n",
            "Iteration 10: Processing item 5\n",
            "Page 5 caused a fault (Fault)\n",
            "Removing page 3 from memory\n",
            "Current memory state: [2, 1, 6, 5]\n",
            "\n",
            "Final Results:\n",
            "Hit  = 3\n",
            "Fault = 7\n",
            "\n",
            "Final Results:\n",
            "Hit rate = 0.3\n",
            "Fault rate = 0.7\n"
          ]
        }
      ],
      "source": [
        "li = list(map(int, input(\"Enter the list items (space separated): \").split(\" \")))\n",
        "n = len(li)\n",
        "memory = []\n",
        "hit = 0\n",
        "fault = 0\n",
        "max_memory_size = int(input(\"Enter the size of the memory: \"))\n",
        "print(\"List items are:\", li)\n",
        "for i in range(n):\n",
        "    print(f\"\\nIteration {i+1}: Processing item {li[i]}\")\n",
        "    if li[i] in memory:\n",
        "        hit += 1\n",
        "        print(f\"Page {li[i]} is already in memory (Hit)\")\n",
        "    else:\n",
        "        fault += 1\n",
        "        print(f\"Page {li[i]} caused a fault (Fault)\")\n",
        "        if len(memory) < max_memory_size:\n",
        "            memory.append(li[i])\n",
        "        else:\n",
        "            memoryidx = []\n",
        "            for item in memory:\n",
        "                if item in li[i+1:]:\n",
        "                    memoryidx.append(li[i+1:].index(item))\n",
        "                else:\n",
        "                    memoryidx.append(float('inf'))\n",
        "            item_to_replace = memory[memoryidx.index(max(memoryidx))]\n",
        "            print(f\"Removing page {item_to_replace} from memory\")\n",
        "            memory.remove(item_to_replace)\n",
        "            memory.append(li[i])\n",
        "    print(\"Current memory state:\", memory)\n",
        "print(f\"\\nFinal Results:\\nHit  = {hit}\\nFault = {fault}\")\n",
        "print(f\"\\nFinal Results:\\nHit rate = {hit / float(n)}\\nFault rate = {fault / float(n)}\")"
      ]
    }
  ]
}
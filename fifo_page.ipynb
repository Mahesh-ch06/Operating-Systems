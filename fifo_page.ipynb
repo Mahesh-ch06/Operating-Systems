{
  "nbformat": 4,
  "nbformat_minor": 0,
  "metadata": {
    "colab": {
      "provenance": [],
      "authorship_tag": "ABX9TyPxIfJ/2EbITYjrljaD3fKW",
      "include_colab_link": true
    },
    "kernelspec": {
      "name": "python3",
      "display_name": "Python 3"
    },
    "language_info": {
      "name": "python"
    }
  },
  "cells": [
    {
      "cell_type": "markdown",
      "metadata": {
        "id": "view-in-github",
        "colab_type": "text"
      },
      "source": [
        "<a href=\"https://colab.research.google.com/github/Mahesh-ch06/Operating-Systems/blob/main/fifo_page.ipynb\" target=\"_parent\"><img src=\"https://colab.research.google.com/assets/colab-badge.svg\" alt=\"Open In Colab\"/></a>"
      ]
    },
    {
      "cell_type": "markdown",
      "source": [
        "# Question"
      ],
      "metadata": {
        "id": "7Mqphfq9OLAm"
      }
    },
    {
      "cell_type": "markdown",
      "source": [
        "1.\tThe system receives a sequence of requests for different pages, and your job is to handle page replacements using the FIFO (First In, First Out) page replacement algorithm. You are responsible for overseeing memory allocation in a computer system that has five available page frames in its main memory.\n",
        "\n",
        "The sequence of page requests is as follows:\n",
        "\n",
        "3, 8, 2, 3, 9, 1, 6, 3, 8, 9, 3, 6, 2, 1, 3\n",
        "\n",
        "Solve this problem by determining which pages will be in memory at each step, and \tcalculate the total number of page faults."
      ],
      "metadata": {
        "id": "Y_jdtHlP1l9v"
      }
    },
    {
      "cell_type": "code",
      "source": [
        "def fifo_page_replacement(page_requests, frame_size):\n",
        "    frames = []\n",
        "    page_faults = 0\n",
        "    hits = 0\n",
        "\n",
        "    for page in page_requests:\n",
        "        if page in frames:\n",
        "            hits += 1\n",
        "            status = \"Hit\"\n",
        "        else:\n",
        "            if len(frames) < frame_size:\n",
        "                frames.append(page)\n",
        "            else:\n",
        "                frames.pop(0)\n",
        "                frames.append(page)\n",
        "            page_faults += 1\n",
        "            status = \"Miss\"\n",
        "\n",
        "        print(f\"Page: {page} -> Frames: {frames}, {status}\")\n",
        "\n",
        "    return page_faults, hits\n",
        "\n",
        "page_requests = [3, 8, 2, 3, 9, 1, 6, 3, 8, 9, 3, 6, 2, 1, 3]\n",
        "frame_size = 5\n",
        "\n",
        "total_page_faults, total_hits = fifo_page_replacement(page_requests, frame_size)\n",
        "print(f\"Total Page Faults: {total_page_faults}\")\n",
        "print(f\"Total Hits: {total_hits}\")\n"
      ],
      "metadata": {
        "colab": {
          "base_uri": "https://localhost:8080/"
        },
        "id": "54emXBU10tj6",
        "outputId": "feafe949-c39d-4d7a-fe7a-66b9d1783db2"
      },
      "execution_count": null,
      "outputs": [
        {
          "output_type": "stream",
          "name": "stdout",
          "text": [
            "Page: 3 -> Frames: [3], Miss\n",
            "Page: 8 -> Frames: [3, 8], Miss\n",
            "Page: 2 -> Frames: [3, 8, 2], Miss\n",
            "Page: 3 -> Frames: [3, 8, 2], Hit\n",
            "Page: 9 -> Frames: [3, 8, 2, 9], Miss\n",
            "Page: 1 -> Frames: [3, 8, 2, 9, 1], Miss\n",
            "Page: 6 -> Frames: [8, 2, 9, 1, 6], Miss\n",
            "Page: 3 -> Frames: [2, 9, 1, 6, 3], Miss\n",
            "Page: 8 -> Frames: [9, 1, 6, 3, 8], Miss\n",
            "Page: 9 -> Frames: [9, 1, 6, 3, 8], Hit\n",
            "Page: 3 -> Frames: [9, 1, 6, 3, 8], Hit\n",
            "Page: 6 -> Frames: [9, 1, 6, 3, 8], Hit\n",
            "Page: 2 -> Frames: [1, 6, 3, 8, 2], Miss\n",
            "Page: 1 -> Frames: [1, 6, 3, 8, 2], Hit\n",
            "Page: 3 -> Frames: [1, 6, 3, 8, 2], Hit\n",
            "Total Page Faults: 9\n",
            "Total Hits: 6\n"
          ]
        }
      ]
    }
  ]
}
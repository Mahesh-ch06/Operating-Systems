{
  "nbformat": 4,
  "nbformat_minor": 0,
  "metadata": {
    "colab": {
      "provenance": [],
      "authorship_tag": "ABX9TyN4XnsZHW9lnxoCnEBsroN/",
      "include_colab_link": true
    },
    "kernelspec": {
      "name": "python3",
      "display_name": "Python 3"
    },
    "language_info": {
      "name": "python"
    }
  },
  "cells": [
    {
      "cell_type": "markdown",
      "metadata": {
        "id": "view-in-github",
        "colab_type": "text"
      },
      "source": [
        "<a href=\"https://colab.research.google.com/github/Mahesh-ch06/Operating-Systems/blob/main/Round_robin_scheduling.ipynb\" target=\"_parent\"><img src=\"https://colab.research.google.com/assets/colab-badge.svg\" alt=\"Open In Colab\"/></a>"
      ]
    },
    {
      "cell_type": "markdown",
      "source": [
        "# Source Of Code"
      ],
      "metadata": {
        "id": "tbueS8YnVSNm"
      }
    },
    {
      "cell_type": "markdown",
      "source": [
        "[Code](https://github.com/Mahesh-ch06/Operating-Systems/blob/main/Round_robin.py)"
      ],
      "metadata": {
        "id": "ct54Y8nxVWsB"
      }
    },
    {
      "cell_type": "markdown",
      "source": [
        "# Round Robin Scheduling Algorithm"
      ],
      "metadata": {
        "id": "PQMBkX-AUzH1"
      }
    },
    {
      "cell_type": "code",
      "execution_count": 1,
      "metadata": {
        "colab": {
          "base_uri": "https://localhost:8080/"
        },
        "id": "owrMzMMXTV8r",
        "outputId": "5d562f06-2c1b-4e2b-9889-5431978bbe59"
      },
      "outputs": [
        {
          "output_type": "stream",
          "name": "stdout",
          "text": [
            "Enter the number of processes: 4\n",
            "Enter the arrival times and burst times for each process:\n",
            "Arrival time of p1: 0\n",
            "Burst time of p1: 5\n",
            "Arrival time of p2: 1\n",
            "Burst time of p2: 3\n",
            "Arrival time of p3: 2\n",
            "Burst time of p3: 8\n",
            "Arrival time of p4: 3\n",
            "Burst time of p4: 6\n",
            "Enter the time quantum: 3\n",
            "\n",
            "---------------------------------------------------------------------------------------------------------\n",
            "Process\t  Arrival Time\t  Burst Time\t  Completion Time\t  Turnaround Time\t  Waiting Time\n",
            "  p1\t\t0\t\t5\t\t14\t\t\t14\t\t\t9\n",
            "  p2\t\t1\t\t3\t\t6\t\t\t5\t\t\t2\n",
            "  p3\t\t2\t\t8\t\t22\t\t\t20\t\t\t12\n",
            "  p4\t\t3\t\t6\t\t20\t\t\t17\t\t\t11\n",
            "---------------------------------------------------------------------------------------------------------\n",
            "\n",
            "Average Waiting Time: 8.50\n",
            "Average Turnaround Time: 14.00\n"
          ]
        }
      ],
      "source": [
        "from collections import deque\n",
        "\n",
        "def round_robin_scheduling(processes, time_quantum):\n",
        "    n = len(processes)\n",
        "    remaining_times = {p: processes[p]['burst'] for p in processes}\n",
        "    wait_times = {p: 0 for p in processes}\n",
        "    turn_around_times = {p: 0 for p in processes}\n",
        "    completion_times = {p: 0 for p in processes}\n",
        "    current_time = 0\n",
        "    queue = deque()\n",
        "    processed = {p: False for p in processes}\n",
        "\n",
        "    while True:\n",
        "        all_done = True\n",
        "\n",
        "        # Add all processes that have arrived and are not in the queue\n",
        "        for p in processes:\n",
        "            if processes[p]['arrival'] <= current_time and not processed[p]:\n",
        "                queue.append(p)\n",
        "                processed[p] = True\n",
        "                all_done = False\n",
        "\n",
        "        if all_done and not queue:\n",
        "            break\n",
        "\n",
        "        if queue:\n",
        "            process = queue.popleft()\n",
        "            execution_time = min(time_quantum, remaining_times[process])\n",
        "            current_time += execution_time\n",
        "            remaining_times[process] -= execution_time\n",
        "\n",
        "            # Add newly arrived processes to the queue\n",
        "            for p in processes:\n",
        "                if processes[p]['arrival'] <= current_time and not processed[p]:\n",
        "                    queue.append(p)\n",
        "                    processed[p] = True\n",
        "\n",
        "            if remaining_times[process] == 0:\n",
        "                completion_times[process] = current_time\n",
        "                turn_around_times[process] = completion_times[process] - processes[process]['arrival']\n",
        "                wait_times[process] = turn_around_times[process] - processes[process]['burst']\n",
        "\n",
        "            else:\n",
        "                queue.append(process)\n",
        "\n",
        "    return wait_times, turn_around_times, completion_times\n",
        "\n",
        "# Input number of processes\n",
        "n = int(input(\"Enter the number of processes: \"))\n",
        "\n",
        "# Input process details\n",
        "processes = {}\n",
        "print(\"Enter the arrival times and burst times for each process:\")\n",
        "for i in range(n):\n",
        "    p_name = f\"p{i+1}\"\n",
        "    arrival = int(input(f\"Arrival time of {p_name}: \"))\n",
        "    burst = int(input(f\"Burst time of {p_name}: \"))\n",
        "    processes[p_name] = {\n",
        "        'arrival': arrival,\n",
        "        'burst': burst\n",
        "    }\n",
        "\n",
        "# Input time quantum\n",
        "time_quantum = int(input(\"Enter the time quantum: \"))\n",
        "\n",
        "# Call the Round Robin scheduling function\n",
        "wait_times, turn_around_times, completion_times = round_robin_scheduling(processes, time_quantum)\n",
        "\n",
        "# Output the results\n",
        "print(\"\\n---------------------------------------------------------------------------------------------------------\")\n",
        "print(\"Process\\t  Arrival Time\\t  Burst Time\\t  Completion Time\\t  Turnaround Time\\t  Waiting Time\")\n",
        "for p in processes:\n",
        "    print(f\"  {p}\\t\\t{processes[p]['arrival']}\\t\\t{processes[p]['burst']}\\t\\t{completion_times[p]}\\t\\t\\t{turn_around_times[p]}\\t\\t\\t{wait_times[p]}\")\n",
        "print(\"---------------------------------------------------------------------------------------------------------\")\n",
        "\n",
        "# Calculate average waiting time and average turnaround time\n",
        "avg_wait_time = sum(wait_times.values()) / len(wait_times)\n",
        "avg_turn_around_time = sum(turn_around_times.values()) / len(turn_around_times)\n",
        "\n",
        "# Output the averages\n",
        "print(f\"\\nAverage Waiting Time: {avg_wait_time:.2f}\")\n",
        "print(f\"Average Turnaround Time: {avg_turn_around_time:.2f}\")"
      ]
    }
  ]
}
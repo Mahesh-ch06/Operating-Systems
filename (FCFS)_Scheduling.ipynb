{
  "nbformat": 4,
  "nbformat_minor": 0,
  "metadata": {
    "colab": {
      "provenance": [],
      "authorship_tag": "ABX9TyM11DKrFEpa8fyAPkRXT0XR",
      "include_colab_link": true
    },
    "kernelspec": {
      "name": "python3",
      "display_name": "Python 3"
    },
    "language_info": {
      "name": "python"
    }
  },
  "cells": [
    {
      "cell_type": "markdown",
      "metadata": {
        "id": "view-in-github",
        "colab_type": "text"
      },
      "source": [
        "<a href=\"https://colab.research.google.com/github/Mahesh-ch06/Operating-Systems/blob/main/(FCFS)_Scheduling.ipynb\" target=\"_parent\"><img src=\"https://colab.research.google.com/assets/colab-badge.svg\" alt=\"Open In Colab\"/></a>"
      ]
    },
    {
      "cell_type": "markdown",
      "source": [
        "**OS Lab - 2**\n",
        "\n",
        "**Operating System Assignment-2**"
      ],
      "metadata": {
        "id": "V9vtCISMVyed"
      }
    },
    {
      "cell_type": "code",
      "source": [
        "from tabulate import tabulate\n",
        "\n",
        "def get_processes_input():\n",
        "    num_processes = int(input(\"Enter the number of processes: \"))\n",
        "    processes = []\n",
        "\n",
        "    for i in range(num_processes):\n",
        "        process_name = input(f\"Enter name for Process {i+1}: \")\n",
        "        arrival_time = int(input(f\"Enter Arrival Time (AT) for {process_name}: \"))\n",
        "        burst_time = int(input(f\"Enter Burst Time (BT) for {process_name}: \"))\n",
        "\n",
        "        processes.append({\"process\": process_name, \"AT\": arrival_time, \"BT\": burst_time})\n",
        "\n",
        "    return processes\n",
        "\n",
        "def calculate_times(processes):\n",
        "    processes.sort(key=lambda x: x[\"AT\"])\n",
        "    current_time = 0\n",
        "    completion_times = []\n",
        "\n",
        "    for process in processes:\n",
        "        if current_time < process[\"AT\"]:\n",
        "            current_time = process[\"AT\"]\n",
        "\n",
        "        CT = current_time + process[\"BT\"]\n",
        "        TAT = CT - process[\"AT\"]\n",
        "        WT = TAT - process[\"BT\"]\n",
        "        completion_times.append({\n",
        "            \"process\": process[\"process\"],\n",
        "            \"AT\": process[\"AT\"],\n",
        "            \"BT\": process[\"BT\"],\n",
        "            \"CT\": CT,\n",
        "            \"TAT\": TAT,\n",
        "            \"WT\": WT\n",
        "        })\n",
        "\n",
        "        current_time = CT\n",
        "\n",
        "    return completion_times\n",
        "\n",
        "\n",
        "def display_results(completion_times):\n",
        "    table_data = [\n",
        "        [item['process'], item['AT'], item['BT'], item['CT'], item['TAT'], item['WT']]\n",
        "        for item in completion_times\n",
        "    ]\n",
        "\n",
        "    headers = [\"Process\", \"Arrival Time (AT)\", \"Burst Time (BT)\", \"Completion Time (CT)\",\n",
        "               \"Turnaround Time (TAT)\", \"Waiting Time (WT)\"]\n",
        "\n",
        "    print(tabulate(table_data, headers=headers, tablefmt=\"grid\"))\n",
        "\n",
        "    avg_waiting_time = sum(item[\"WT\"] for item in completion_times) / len(completion_times)\n",
        "    print(f\"\\nAverage Waiting Time: {avg_waiting_time:.2f}\")\n",
        "\n",
        "processes = get_processes_input()\n",
        "completion_times = calculate_times(processes)\n",
        "display_results(completion_times)\n"
      ],
      "metadata": {
        "colab": {
          "base_uri": "https://localhost:8080/"
        },
        "id": "4cZwSdVxLobR",
        "outputId": "7854ccad-a8e3-484f-f746-e81b70641c17"
      },
      "execution_count": 2,
      "outputs": [
        {
          "output_type": "stream",
          "name": "stdout",
          "text": [
            "Enter the number of processes: 3\n",
            "Enter name for Process 1: P1\n",
            "Enter Arrival Time (AT) for P1: 0\n",
            "Enter Burst Time (BT) for P1: 3\n",
            "Enter name for Process 2: P2\n",
            "Enter Arrival Time (AT) for P2: 2\n",
            "Enter Burst Time (BT) for P2: 6\n",
            "Enter name for Process 3: P3\n",
            "Enter Arrival Time (AT) for P3: 4\n",
            "Enter Burst Time (BT) for P3: 4\n",
            "+-----------+---------------------+-------------------+------------------------+-------------------------+---------------------+\n",
            "| Process   |   Arrival Time (AT) |   Burst Time (BT) |   Completion Time (CT) |   Turnaround Time (TAT) |   Waiting Time (WT) |\n",
            "+===========+=====================+===================+========================+=========================+=====================+\n",
            "| P1        |                   0 |                 3 |                      3 |                       3 |                   0 |\n",
            "+-----------+---------------------+-------------------+------------------------+-------------------------+---------------------+\n",
            "| P2        |                   2 |                 6 |                      9 |                       7 |                   1 |\n",
            "+-----------+---------------------+-------------------+------------------------+-------------------------+---------------------+\n",
            "| P3        |                   4 |                 4 |                     13 |                       9 |                   5 |\n",
            "+-----------+---------------------+-------------------+------------------------+-------------------------+---------------------+\n",
            "\n",
            "Average Waiting Time: 2.00\n"
          ]
        }
      ]
    }
  ]
}
{
  "nbformat": 4,
  "nbformat_minor": 0,
  "metadata": {
    "colab": {
      "provenance": [],
      "authorship_tag": "ABX9TyN3GHS8DCLAilmUMdCnPhgT",
      "include_colab_link": true
    },
    "kernelspec": {
      "name": "python3",
      "display_name": "Python 3"
    },
    "language_info": {
      "name": "python"
    }
  },
  "cells": [
    {
      "cell_type": "markdown",
      "metadata": {
        "id": "view-in-github",
        "colab_type": "text"
      },
      "source": [
        "<a href=\"https://colab.research.google.com/github/Mahesh-ch06/Operating-Systems/blob/main/deadlock.ipynb\" target=\"_parent\"><img src=\"https://colab.research.google.com/assets/colab-badge.svg\" alt=\"Open In Colab\"/></a>"
      ]
    },
    {
      "cell_type": "markdown",
      "source": [
        "**Name : Chodhitha**\n",
        "\n",
        "**Batch : 31**\n",
        "\n",
        "**HallTicket : 2303a52039**"
      ],
      "metadata": {
        "id": "brIdMffXpy_x"
      }
    },
    {
      "cell_type": "markdown",
      "source": [
        "# Question"
      ],
      "metadata": {
        "id": "v1cKw52KNbhC"
      }
    },
    {
      "cell_type": "markdown",
      "source": [
        "You have been given a system state depicted in a graph format. Examine the graph to ascertain whether a\n",
        "deadlock has taken place. In the event of a deadlock, identify the processes that are involved and check the\n",
        "process is in safe state or display the list of processes involved in the deadlock programmatically.\n",
        "\n",
        "System Configuration:\n",
        "\n",
        "Processes: P1, P2, P3, P4\n",
        "\n",
        "Resources: R1, R2, R3, R4\n",
        "\n",
        "Resource Instances:\n",
        "\n",
        "• R1 = 1 instance\n",
        "\n",
        "• R2 = 2 instances\n",
        "\n",
        "• R3 = 1 instance\n",
        "\n",
        "• R4 = 1 instance\n",
        "\n",
        "Graph Description:\n",
        "\n",
        "Process P1 holds R1 and is requesting R2.\n",
        "\n",
        "Process P2 holds R2 and is requesting R3.\n",
        "\n",
        "Process P3 holds R3 and is requesting R1.\n",
        "\n",
        "Process P4 is requesting R2 but does not hold any resources."
      ],
      "metadata": {
        "id": "4fH9I-Qeqe-m"
      }
    },
    {
      "cell_type": "code",
      "execution_count": null,
      "metadata": {
        "colab": {
          "base_uri": "https://localhost:8080/"
        },
        "id": "6PVjR-HMhUFq",
        "outputId": "e54ac0d8-dc7f-412b-8173-249f6b29bc48"
      },
      "outputs": [
        {
          "output_type": "stream",
          "name": "stdout",
          "text": [
            "Enter the number of processes: 4\n",
            "Enter the number of resources: 4\n",
            "Enter the 1th resource name: R1\n",
            "Enter the 2th resource name: R2\n",
            "Enter the 3th resource name: R3\n",
            "Enter the 4th resource name: R4\n",
            "Enter the allocated resources for R1 of Process 1: 1\n",
            "Enter the allocated resources for R2 of Process 1: 0\n",
            "Enter the allocated resources for R3 of Process 1: 0\n",
            "Enter the allocated resources for R4 of Process 1: 0\n",
            "Enter the requested resources for R1 of Process 1: 0\n",
            "Enter the requested resources for R2 of Process 1: 1\n",
            "Enter the requested resources for R3 of Process 1: 0\n",
            "Enter the requested resources for R4 of Process 1: 0\n",
            "Enter the allocated resources for R1 of Process 2: 0\n",
            "Enter the allocated resources for R2 of Process 2: 1\n",
            "Enter the allocated resources for R3 of Process 2: 0\n",
            "Enter the allocated resources for R4 of Process 2: 0\n",
            "Enter the requested resources for R1 of Process 2: 0\n",
            "Enter the requested resources for R2 of Process 2: 0\n",
            "Enter the requested resources for R3 of Process 2: 1\n",
            "Enter the requested resources for R4 of Process 2: 0\n",
            "Enter the allocated resources for R1 of Process 3: 0\n",
            "Enter the allocated resources for R2 of Process 3: 0\n",
            "Enter the allocated resources for R3 of Process 3: 1\n",
            "Enter the allocated resources for R4 of Process 3: 0\n",
            "Enter the requested resources for R1 of Process 3: 1\n",
            "Enter the requested resources for R2 of Process 3: 0\n",
            "Enter the requested resources for R3 of Process 3: 0\n",
            "Enter the requested resources for R4 of Process 3: 0\n",
            "Enter the allocated resources for R1 of Process 4: 0\n",
            "Enter the allocated resources for R2 of Process 4: 0\n",
            "Enter the allocated resources for R3 of Process 4: 0\n",
            "Enter the allocated resources for R4 of Process 4: 0\n",
            "Enter the requested resources for R1 of Process 4: 0\n",
            "Enter the requested resources for R2 of Process 4: 1\n",
            "Enter the requested resources for R3 of Process 4: 0\n",
            "Enter the requested resources for R4 of Process 4: 0\n",
            "Enter the total available for resource R1: 1\n",
            "Enter the total available for resource R2: 2\n",
            "Enter the total available for resource R3: 1\n",
            "Enter the total available for resource R4: 1\n",
            "The system is in a safe state.\n",
            "Safe sequence is: [1, 3, 4, 2]\n",
            "\n",
            "Processes details:\n",
            "Process 1: Allocated [1, 0, 0, 0], Required [0, 1, 0, 0]\n",
            "Process 2: Allocated [0, 1, 0, 0], Required [0, 0, 1, 0]\n",
            "Process 3: Allocated [0, 0, 1, 0], Required [1, 0, 0, 0]\n",
            "Process 4: Allocated [0, 0, 0, 0], Required [0, 1, 0, 0]\n"
          ]
        }
      ],
      "source": [
        "p = []\n",
        "r = []\n",
        "\n",
        "n = int(input(\"Enter the number of processes: \"))\n",
        "nr = int(input(\"Enter the number of resources: \"))\n",
        "\n",
        "for i in range(nr):\n",
        "    r.append(input(f\"Enter the {i+1}th resource name: \"))\n",
        "\n",
        "for i in range(n):\n",
        "    A = []\n",
        "    R = []\n",
        "    for j in range(nr):\n",
        "        A.append(int(input(f\"Enter the allocated resources for {r[j]} of Process {i+1}: \")))\n",
        "    for j in range(nr):\n",
        "        R.append(int(input(f\"Enter the requested resources for {r[j]} of Process {i+1}: \")))\n",
        "\n",
        "    process = {\n",
        "        \"process\": i + 1,\n",
        "        \"allocated\": A,\n",
        "        \"required\": R,\n",
        "        \"finished\": False\n",
        "    }\n",
        "    p.append(process)\n",
        "\n",
        "total_resources = []\n",
        "for i in range(nr):\n",
        "    total_resources.append(int(input(f\"Enter the total available for resource {r[i]}: \")))\n",
        "\n",
        "TAllocated = [0] * nr\n",
        "for i in range(n):\n",
        "    for j in range(nr):\n",
        "        TAllocated[j] += p[i][\"allocated\"][j]\n",
        "\n",
        "available = [total_resources[i] - TAllocated[i] for i in range(nr)]\n",
        "\n",
        "def can_execute(process, available):\n",
        "    for i in range(nr):\n",
        "        if process[\"required\"][i] > available[i]:\n",
        "            return False\n",
        "    return True\n",
        "\n",
        "safe_sequence = []\n",
        "finished_processes = 0\n",
        "\n",
        "while finished_processes < n:\n",
        "    executed_process = False\n",
        "    for process in p:\n",
        "        if not process[\"finished\"] and can_execute(process, available):\n",
        "            for i in range(nr):\n",
        "                available[i] += process[\"allocated\"][i]\n",
        "            process[\"finished\"] = True\n",
        "            safe_sequence.append(process[\"process\"])\n",
        "            finished_processes += 1\n",
        "            executed_process = True\n",
        "\n",
        "    if not executed_process:\n",
        "        print(\"The system is in an unsafe state!\")\n",
        "        break\n",
        "else:\n",
        "    print(\"The system is in a safe state.\")\n",
        "    print(\"Safe sequence is:\", safe_sequence)\n",
        "\n",
        "print(\"\\nProcesses details:\")\n",
        "for process in p:\n",
        "    print(f\"Process {process['process']}: Allocated {process['allocated']}, Required {process['required']}\")"
      ]
    }
  ]
}
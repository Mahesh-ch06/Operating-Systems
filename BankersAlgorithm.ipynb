{
  "nbformat": 4,
  "nbformat_minor": 0,
  "metadata": {
    "colab": {
      "provenance": [],
      "gpuType": "T4",
      "authorship_tag": "ABX9TyNSHcdSAydLDEqJD64vpLP2",
      "include_colab_link": true
    },
    "kernelspec": {
      "name": "python3",
      "display_name": "Python 3"
    },
    "language_info": {
      "name": "python"
    },
    "accelerator": "GPU"
  },
  "cells": [
    {
      "cell_type": "markdown",
      "metadata": {
        "id": "view-in-github",
        "colab_type": "text"
      },
      "source": [
        "<a href=\"https://colab.research.google.com/github/Mahesh-ch06/Operating-Systems/blob/main/BankersAlgorithm.ipynb\" target=\"_parent\"><img src=\"https://colab.research.google.com/assets/colab-badge.svg\" alt=\"Open In Colab\"/></a>"
      ]
    },
    {
      "cell_type": "markdown",
      "source": [
        "# Source Of Code"
      ],
      "metadata": {
        "id": "Pq2RGyAQWcZM"
      }
    },
    {
      "cell_type": "markdown",
      "source": [
        "[Code](https://github.com/Mahesh-ch06/Operating-Systems/blob/main/BankersAlgorithm.py)"
      ],
      "metadata": {
        "id": "_8voO_jzWib7"
      }
    },
    {
      "cell_type": "markdown",
      "source": [
        "# BankersAlgorithm"
      ],
      "metadata": {
        "id": "TfUMs0UEWaZ4"
      }
    },
    {
      "cell_type": "code",
      "execution_count": 1,
      "metadata": {
        "id": "gq_hHhk4WGyw",
        "colab": {
          "base_uri": "https://localhost:8080/"
        },
        "outputId": "9d513842-4ab2-4f0d-f9ed-00f4e026a659"
      },
      "outputs": [
        {
          "output_type": "stream",
          "name": "stdout",
          "text": [
            "Enter the number of processes: 4\n",
            "Enter the number of resources: 3\n",
            "Enter the 1th resource name: R1\n",
            "Enter the 2th resource name: R2\n",
            "Enter the 3th resource name: R3\n",
            "Enter the allocated resources for R1 of Process 1: 1\n",
            "Enter the allocated resources for R2 of Process 1: 0\n",
            "Enter the allocated resources for R3 of Process 1: 3\n",
            "Enter the Max needed resources for R1 of Process 1: 3\n",
            "Enter the Max needed resources for R2 of Process 1: 2\n",
            "Enter the Max needed resources for R3 of Process 1: 4\n",
            "Enter the allocated resources for R1 of Process 2: 2\n",
            "Enter the allocated resources for R2 of Process 2: 1\n",
            "Enter the allocated resources for R3 of Process 2: 1\n",
            "Enter the Max needed resources for R1 of Process 2: 4\n",
            "Enter the Max needed resources for R2 of Process 2: 3\n",
            "Enter the Max needed resources for R3 of Process 2: 2\n",
            "Enter the allocated resources for R1 of Process 3: 3\n",
            "Enter the allocated resources for R2 of Process 3: 1\n",
            "Enter the allocated resources for R3 of Process 3: 0\n",
            "Enter the Max needed resources for R1 of Process 3: 5\n",
            "Enter the Max needed resources for R2 of Process 3: 3\n",
            "Enter the Max needed resources for R3 of Process 3: 2\n",
            "Enter the allocated resources for R1 of Process 4: 0\n",
            "Enter the allocated resources for R2 of Process 4: 2\n",
            "Enter the allocated resources for R3 of Process 4: 1\n",
            "Enter the Max needed resources for R1 of Process 4: 2\n",
            "Enter the Max needed resources for R2 of Process 4: 3\n",
            "Enter the Max needed resources for R3 of Process 4: 3\n",
            "Enter the total available for resource R1: 10\n",
            "Enter the total available for resource R2: 5\n",
            "Enter the total available for resource R3: 7\n",
            "The system is in a safe state.\n",
            "Safe sequence is: [4, 1, 2, 3]\n",
            "\n",
            "Processes details:\n",
            "Process 1: Allocated [1, 0, 3], MaxNeed [3, 2, 4], Required [2, 2, 1]\n",
            "Process 2: Allocated [2, 1, 1], MaxNeed [4, 3, 2], Required [2, 2, 1]\n",
            "Process 3: Allocated [3, 1, 0], MaxNeed [5, 3, 2], Required [2, 2, 2]\n",
            "Process 4: Allocated [0, 2, 1], MaxNeed [2, 3, 3], Required [2, 1, 2]\n"
          ]
        }
      ],
      "source": [
        "p = []\n",
        "r = []\n",
        "\n",
        "n = int(input(\"Enter the number of processes: \"))\n",
        "nr = int(input(\"Enter the number of resources: \"))\n",
        "\n",
        "for i in range(nr):\n",
        "    r.append(input(f\"Enter the {i+1}th resource name: \"))\n",
        "\n",
        "for i in range(n):\n",
        "    A = []\n",
        "    MN = []\n",
        "    R = []\n",
        "    for j in range(nr):\n",
        "        A.append(int(input(f\"Enter the allocated resources for {r[j]} of Process {i+1}: \")))\n",
        "    for j in range(nr):\n",
        "        MN.append(int(input(f\"Enter the Max needed resources for {r[j]} of Process {i+1}: \")))\n",
        "    for j in range(nr):\n",
        "        R.append(MN[j] - A[j])\n",
        "\n",
        "    process = {\n",
        "        \"process\": i + 1,\n",
        "        \"allocated\": A,\n",
        "        \"maxNeed\": MN,\n",
        "        \"required\": R,\n",
        "        \"finished\": False\n",
        "    }\n",
        "    p.append(process)\n",
        "\n",
        "total_resources = []\n",
        "for i in range(nr):\n",
        "    total_resources.append(int(input(f\"Enter the total available for resource {r[i]}: \")))\n",
        "\n",
        "TAllocated = [0] * nr\n",
        "for i in range(n):\n",
        "    for j in range(nr):\n",
        "        TAllocated[j] += p[i][\"allocated\"][j]\n",
        "\n",
        "available = [total_resources[i] - TAllocated[i] for i in range(nr)]\n",
        "\n",
        "def can_execute(process, available):\n",
        "    for i in range(nr):\n",
        "        if process[\"required\"][i] > available[i]:\n",
        "            return False\n",
        "    return True\n",
        "\n",
        "safe_sequence = []\n",
        "finished_processes = 0\n",
        "\n",
        "while finished_processes < n:\n",
        "    executed_process = False\n",
        "    for process in p:\n",
        "        if not process[\"finished\"] and can_execute(process, available):\n",
        "            for i in range(nr):\n",
        "                available[i] += process[\"allocated\"][i]\n",
        "            process[\"finished\"] = True\n",
        "            safe_sequence.append(process[\"process\"])\n",
        "            finished_processes += 1\n",
        "            executed_process = True\n",
        "\n",
        "    if not executed_process:\n",
        "        print(\"The system is in an unsafe state!\")\n",
        "        break\n",
        "else:\n",
        "    print(\"The system is in a safe state.\")\n",
        "    print(\"Safe sequence is:\", safe_sequence)\n",
        "\n",
        "print(\"\\nProcesses details:\")\n",
        "for process in p:\n",
        "    print(f\"Process {process['process']}: Allocated {process['allocated']}, MaxNeed {process['maxNeed']}, Required {process['required']}\")"
      ]
    }
  ]
}